{
 "cells": [
  {
   "cell_type": "markdown",
   "id": "bf05b2c8",
   "metadata": {},
   "source": [
    "## 1.Numpy and arrays"
   ]
  },
  {
   "cell_type": "code",
   "execution_count": 1,
   "id": "6aaf7b87",
   "metadata": {},
   "outputs": [],
   "source": [
    "import numpy as np\n",
    "import time"
   ]
  },
  {
   "cell_type": "markdown",
   "id": "12302404",
   "metadata": {},
   "source": [
    "## 2.Creating array from list"
   ]
  },
  {
   "cell_type": "code",
   "execution_count": 3,
   "id": "f0777ce0",
   "metadata": {},
   "outputs": [
    {
     "name": "stdout",
     "output_type": "stream",
     "text": [
      "[1 2 3 4 5]\n",
      "[[1 2 3]\n",
      " [4 5 6]]\n"
     ]
    }
   ],
   "source": [
    "arr1=np.array([1,2,3,4,5])\n",
    "print(arr1)\n",
    "\n",
    "arr2=np.array([[1,2,3],[4,5,6]])\n",
    "print(arr2)"
   ]
  },
  {
   "cell_type": "markdown",
   "id": "6f385839",
   "metadata": {},
   "source": [
    "## 3.Numpy array vs python list"
   ]
  },
  {
   "cell_type": "code",
   "execution_count": 3,
   "id": "8c2dab17",
   "metadata": {},
   "outputs": [
    {
     "name": "stdout",
     "output_type": "stream",
     "text": [
      "List Multiplication : [1, 2, 3, 4, 5, 6, 1, 2, 3, 4, 5, 6]\n",
      "Numpy_array Multiplication : [ 2  4  6  8 10 12]\n",
      "Time for list multiplication: 4.464373826980591\n",
      "Time for numpy array multiplication: 0.4867212772369385\n"
     ]
    }
   ],
   "source": [
    "py_list=[1,2,3,4,5,6]\n",
    "print(f\"List Multiplication : {py_list*2}\")\n",
    "\n",
    "np_array=np.array([1,2,3,4,5,6])\n",
    "print(f\"Numpy_array Multiplication : {np_array*2}\")\n",
    "\n",
    "\n",
    "start=time.time()\n",
    "py_list=[i*2 for i in range(100000000)]\n",
    "print(f\"Time for list multiplication: {time.time()-start}\")\n",
    "\n",
    "\n",
    "start=time.time()\n",
    "np_arr=np.arange(100000000)*2\n",
    "print(f\"Time for numpy array multiplication: {time.time()-start}\")\n"
   ]
  },
  {
   "cell_type": "markdown",
   "id": "dc5f4f39",
   "metadata": {},
   "source": [
    "## 3.Creating array from scratch"
   ]
  },
  {
   "cell_type": "code",
   "execution_count": 10,
   "id": "61cdd101",
   "metadata": {},
   "outputs": [
    {
     "name": "stdout",
     "output_type": "stream",
     "text": [
      "Zero matrix: \n",
      "[[0. 0. 0. 0.]\n",
      " [0. 0. 0. 0.]\n",
      " [0. 0. 0. 0.]]\n",
      "Ones Matrix:\n",
      "[[1. 1. 1.]\n",
      " [1. 1. 1.]\n",
      " [1. 1. 1.]]\n",
      "Constant value matrix:\n",
      "[[9 9 9]\n",
      " [9 9 9]]\n",
      "Random value matrix:\n",
      "[[0.99294292 0.34505496 0.39183223]\n",
      " [0.16161173 0.04776669 0.10069638]]\n",
      "Sequential matrix:\n",
      "[ 0  2  4  6  8 10]\n"
     ]
    }
   ],
   "source": [
    "z=np.zeros((3,4))\n",
    "print(f\"Zero matrix: \\n{z}\")\n",
    "\n",
    "o=np.ones((3,3))\n",
    "print(f\"Ones Matrix:\\n{o}\")\n",
    "\n",
    "f=np.full((2,3),9)\n",
    "print(f\"Constant value matrix:\\n{f}\")\n",
    "\n",
    "random=np.random.random((2,3))\n",
    "print(f\"Random value matrix:\\n{random}\")\n",
    "\n",
    "\n",
    "seq=np.arange(0,11,2)\n",
    "print(f\"Sequential matrix:\\n{seq}\")\n",
    "\n",
    "\n",
    "\n",
    "\n",
    "\n"
   ]
  },
  {
   "cell_type": "markdown",
   "id": "10e55537",
   "metadata": {},
   "source": [
    "## Vector , Matrix and Tensor "
   ]
  },
  {
   "cell_type": "code",
   "execution_count": 15,
   "id": "671fb4de",
   "metadata": {},
   "outputs": [
    {
     "name": "stdout",
     "output_type": "stream",
     "text": [
      "Vector Array: [1 2 3 4 5]\n",
      "Matrix Array:\n",
      " [[1 2 3]\n",
      " [4 5 6]]\n",
      "Tensor: \n",
      " [[[1 2]\n",
      "  [2 3]]\n",
      "\n",
      " [[4 5]\n",
      "  [6 7]]]\n"
     ]
    }
   ],
   "source": [
    "v=np.array([1,2,3,4,5])\n",
    "print(f\"Vector Array: {v}\")\n",
    "\n",
    "m=np.array([[1,2,3],[4,5,6]])\n",
    "print(f\"Matrix Array:\\n {m}\")\n",
    "\n",
    "t=np.array([[[1,2],[2,3]],[[4,5],[6,7]]])\n",
    "print(f\"Tensor: \\n {t}\")\n"
   ]
  },
  {
   "cell_type": "markdown",
   "id": "96462083",
   "metadata": {},
   "source": [
    "## Array Properties"
   ]
  },
  {
   "cell_type": "code",
   "execution_count": 4,
   "id": "69d61e4e",
   "metadata": {},
   "outputs": [
    {
     "name": "stdout",
     "output_type": "stream",
     "text": [
      "Shape: (2, 3)\n",
      "Dimension : 2\n",
      "Size: 6\n"
     ]
    }
   ],
   "source": [
    "arr=np.array([[1,2,3],[4,5,6]])\n",
    "print(f\"Shape: {arr.shape}\")\n",
    "print(f\"Dimension : {arr.ndim}\")\n",
    "print(f\"Size: {arr.size}\")\n"
   ]
  }
 ],
 "metadata": {
  "kernelspec": {
   "display_name": ".venv (3.13.5)",
   "language": "python",
   "name": "python3"
  },
  "language_info": {
   "codemirror_mode": {
    "name": "ipython",
    "version": 3
   },
   "file_extension": ".py",
   "mimetype": "text/x-python",
   "name": "python",
   "nbconvert_exporter": "python",
   "pygments_lexer": "ipython3",
   "version": "3.13.5"
  }
 },
 "nbformat": 4,
 "nbformat_minor": 5
}
