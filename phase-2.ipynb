{
 "cells": [
  {
   "cell_type": "code",
   "execution_count": 1,
   "id": "bd15a56e",
   "metadata": {},
   "outputs": [],
   "source": [
    "import numpy as np"
   ]
  },
  {
   "cell_type": "markdown",
   "id": "becc6730",
   "metadata": {},
   "source": [
    "## Numpy array operation "
   ]
  },
  {
   "cell_type": "markdown",
   "id": "5b5489ed",
   "metadata": {},
   "source": [
    "### 1.Basic Operation"
   ]
  },
  {
   "cell_type": "code",
   "execution_count": 11,
   "id": "abd72d09",
   "metadata": {},
   "outputs": [
    {
     "name": "stdout",
     "output_type": "stream",
     "text": [
      "Basic slicing : [2 3 4]\n",
      "With step : [2 4 6 8]\n",
      "Negative indexing : [8 9]\n"
     ]
    }
   ],
   "source": [
    "arr=np.arange(1,11)\n",
    "print(f\"Basic slicing : {arr[1:4]}\") #(x:y) , x=for row , y= for columns\n",
    "print(f\"With step : {arr[1:9:2]}\")  #(x:y:z), x,y = for indexing , z=for step jump\n",
    "print(f\"Negative indexing : {arr[-3:-1]}\") # for reverse indexing , index starts for -1 and not 0"
   ]
  },
  {
   "cell_type": "markdown",
   "id": "0083386f",
   "metadata": {},
   "source": [
    "### 2.Printing specific elements"
   ]
  },
  {
   "cell_type": "code",
   "execution_count": 14,
   "id": "5a99b6c6",
   "metadata": {},
   "outputs": [
    {
     "name": "stdout",
     "output_type": "stream",
     "text": [
      "Specific element : 5\n",
      "Entire row : [7 8 9]\n",
      "Entire column: [2 5 8]\n"
     ]
    }
   ],
   "source": [
    "arr=np.array([[1,2,3],\n",
    "              [4,5,6],\n",
    "              [7,8,9]])\n",
    "print(f\"Specific element : {arr[1,1]}\" )\n",
    "print(f\"Entire row : {arr[2]}\")\n",
    "print(f\"Entire column: {arr[:,1]}\")"
   ]
  },
  {
   "cell_type": "markdown",
   "id": "8b9c48af",
   "metadata": {},
   "source": [
    "### 3.Sorting by rows and columns"
   ]
  },
  {
   "cell_type": "code",
   "execution_count": 11,
   "id": "ec703683",
   "metadata": {},
   "outputs": [
    {
     "name": "stdout",
     "output_type": "stream",
     "text": [
      "Sorted array : [ 1  2  3  4  5  6  7  8  9 10]\n",
      "Sorted array in 2D for columns :\n",
      " [[1 1]\n",
      " [3 1]\n",
      " [9 2]]\n",
      "Sorted array in 2D for rows :\n",
      " [[1 9]\n",
      " [1 2]\n",
      " [1 3]]\n"
     ]
    }
   ],
   "source": [
    "uns_1d=np.array([7,6,10,3,4,1,9,5,8,2])\n",
    "s=np.sort(uns_1d)\n",
    "print(f\"Sorted array : {s}\")\n",
    "uns_2d=np.array([[9,1],[1,2],[3,1]])\n",
    "print(f\"Sorted array in 2D for columns :\\n {np.sort(uns_2d , axis =0)}\")\n",
    "print(f\"Sorted array in 2D for rows :\\n {np.sort(uns_2d , axis=1)}\")"
   ]
  },
  {
   "cell_type": "markdown",
   "id": "950a1d41",
   "metadata": {},
   "source": [
    "### 4.Filter and Filter with mask\n"
   ]
  },
  {
   "cell_type": "code",
   "execution_count": null,
   "id": "d9b9d807",
   "metadata": {},
   "outputs": [
    {
     "name": "stdout",
     "output_type": "stream",
     "text": [
      "Filter : [ 2  4  6  8 10]\n",
      "Filtering with mask as numbers greater than 5: [ 6  7  8  9 10]\n"
     ]
    }
   ],
   "source": [
    "n=np.arange(1,11)\n",
    "\n",
    "e=n[n%2==0]\n",
    "print(f\"Filter : {e}\")\n",
    "\n",
    "mask=n>5\n",
    "print(f\"Filtering with mask as numbers greater than 5: {n[mask]}\")\n"
   ]
  },
  {
   "cell_type": "markdown",
   "id": "c6e26376",
   "metadata": {},
   "source": [
    "### 5.Fancy indexing vs np.where()"
   ]
  },
  {
   "cell_type": "code",
   "execution_count": null,
   "id": "e0e4f2f1",
   "metadata": {},
   "outputs": [
    {
     "name": "stdout",
     "output_type": "stream",
     "text": [
      "[1 3 5]\n",
      "[ 6  7  8  9 10]\n",
      "[ 1  2  3  4  5 12 14 16 18 20]\n"
     ]
    }
   ],
   "source": [
    "n=np.arange(1,11)\n",
    "\n",
    "indices=[0,2,4]\n",
    "print(n[indices])\n",
    "\n",
    "r=np.where(n>5)\n",
    "print(n[r])\n",
    "\n",
    "ca=np.where(n>5 , n*2 , n)\n",
    "print(ca)"
   ]
  }
 ],
 "metadata": {
  "kernelspec": {
   "display_name": ".venv (3.13.5)",
   "language": "python",
   "name": "python3"
  },
  "language_info": {
   "codemirror_mode": {
    "name": "ipython",
    "version": 3
   },
   "file_extension": ".py",
   "mimetype": "text/x-python",
   "name": "python",
   "nbconvert_exporter": "python",
   "pygments_lexer": "ipython3",
   "version": "3.13.5"
  }
 },
 "nbformat": 4,
 "nbformat_minor": 5
}
