{
 "cells": [
  {
   "cell_type": "markdown",
   "id": "02eec3e2",
   "metadata": {},
   "source": [
    "## Numpy saving and loading functions"
   ]
  },
  {
   "cell_type": "code",
   "execution_count": 10,
   "id": "a7189341",
   "metadata": {},
   "outputs": [],
   "source": [
    "import numpy as np\n",
    "import matplotlib.pyplot as plt"
   ]
  },
  {
   "cell_type": "code",
   "execution_count": 11,
   "id": "3c7d44df",
   "metadata": {},
   "outputs": [],
   "source": [
    "array1 = np.array([[1, 2, 3], [4, 5, 6]])\n",
    "array2 = np.random.rand(3, 3)\n",
    "array3 = np.zeros((4, 4))"
   ]
  },
  {
   "cell_type": "markdown",
   "id": "334d2956",
   "metadata": {},
   "source": [
    "### 1.Saving Numpy as npy"
   ]
  },
  {
   "cell_type": "code",
   "execution_count": 12,
   "id": "dd002111",
   "metadata": {},
   "outputs": [],
   "source": [
    "np.save(\"Array1.npy\",array1)\n",
    "np.save(\"Array2.npy\",array2)\n",
    "np.save(\"Array3.npy\",array3)"
   ]
  },
  {
   "cell_type": "markdown",
   "id": "b33c7e88",
   "metadata": {},
   "source": [
    "### Loading npy back as numpy array "
   ]
  },
  {
   "cell_type": "code",
   "execution_count": 13,
   "id": "fa9fb046",
   "metadata": {},
   "outputs": [
    {
     "name": "stdout",
     "output_type": "stream",
     "text": [
      "[[1 2 3]\n",
      " [4 5 6]]\n",
      "[[0.578713   0.89720372 0.11927867]\n",
      " [0.09254175 0.19201203 0.22098378]\n",
      " [0.08308737 0.64791106 0.58027336]]\n"
     ]
    }
   ],
   "source": [
    "load1=np.load(\"Array1.npy\")\n",
    "print(load1)\n",
    "load2=np.load(\"Array2.npy\")\n",
    "print(load2)"
   ]
  },
  {
   "cell_type": "markdown",
   "id": "ec77e212",
   "metadata": {},
   "source": [
    "## Image color invert"
   ]
  },
  {
   "cell_type": "code",
   "execution_count": null,
   "id": "5e3980d6",
   "metadata": {},
   "outputs": [],
   "source": []
  }
 ],
 "metadata": {
  "kernelspec": {
   "display_name": ".venv (3.13.5)",
   "language": "python",
   "name": "python3"
  },
  "language_info": {
   "codemirror_mode": {
    "name": "ipython",
    "version": 3
   },
   "file_extension": ".py",
   "mimetype": "text/x-python",
   "name": "python",
   "nbconvert_exporter": "python",
   "pygments_lexer": "ipython3",
   "version": "3.13.5"
  }
 },
 "nbformat": 4,
 "nbformat_minor": 5
}
